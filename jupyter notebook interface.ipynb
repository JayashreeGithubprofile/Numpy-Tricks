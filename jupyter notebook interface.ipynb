{
 "cells": [
  {
   "cell_type": "code",
   "execution_count": 1,
   "id": "bdd542ea",
   "metadata": {},
   "outputs": [
    {
     "ename": "SyntaxError",
     "evalue": "invalid syntax (4040733227.py, line 13)",
     "output_type": "error",
     "traceback": [
      "\u001b[1;36m  File \u001b[1;32m\"C:\\Users\\Dell\\AppData\\Local\\Temp\\ipykernel_2504\\4040733227.py\"\u001b[1;36m, line \u001b[1;32m13\u001b[0m\n\u001b[1;33m    +\u001b[0m\n\u001b[1;37m     ^\u001b[0m\n\u001b[1;31mSyntaxError\u001b[0m\u001b[1;31m:\u001b[0m invalid syntax\n"
     ]
    }
   ],
   "source": [
    "#command mode:blue mode\n",
    "#edit mode:green\n",
    "#command mode->edit mode:press enter or you can click using mouse in the cell\n",
    "#edit mode->command mode : press ESC\n",
    "\n",
    "#ctrl + Enter can be used to run or execute the whoe chunk of code you have written in the cell\n",
    "#You will see a change in [] when you execute any cell\n",
    "\n",
    "#ctrl + enter can execute the code but it will not add or move to the  next cell.\n",
    "\n",
    "#while\n",
    "#shift + enter will execute the code and move to next cell.\n",
    "+"
   ]
  },
  {
   "cell_type": "code",
   "execution_count": 3,
   "id": "384f27db",
   "metadata": {},
   "outputs": [
    {
     "name": "stdout",
     "output_type": "stream",
     "text": [
      "Hello\n"
     ]
    }
   ],
   "source": [
    "print(\"Hello\")"
   ]
  },
  {
   "cell_type": "code",
   "execution_count": null,
   "id": "88c7c20e",
   "metadata": {},
   "outputs": [],
   "source": [
    "#dd can be used to delete a cell only in command ode"
   ]
  },
  {
   "cell_type": "code",
   "execution_count": null,
   "id": "0d1c5747",
   "metadata": {},
   "outputs": [],
   "source": [
    "#add any cell above the cell,you can use 'a' only when you are in command mode\n",
    "#add any cell below the cell,you can use 'b' only when you are in command mode"
   ]
  },
  {
   "cell_type": "markdown",
   "id": "4e81955c",
   "metadata": {},
   "source": [
    "First program"
   ]
  },
  {
   "cell_type": "markdown",
   "id": "f68c0ad9",
   "metadata": {},
   "source": [
    "## Second program"
   ]
  },
  {
   "cell_type": "markdown",
   "id": "3e94cdef",
   "metadata": {},
   "source": [
    "# Third program\n"
   ]
  },
  {
   "cell_type": "markdown",
   "id": "278d11d8",
   "metadata": {},
   "source": [
    "##### Markdown"
   ]
  },
  {
   "cell_type": "code",
   "execution_count": null,
   "id": "e9515ef9",
   "metadata": {},
   "outputs": [],
   "source": []
  },
  {
   "cell_type": "code",
   "execution_count": null,
   "id": "cf9314e7",
   "metadata": {},
   "outputs": [],
   "source": []
  }
 ],
 "metadata": {
  "kernelspec": {
   "display_name": "Python 3 (ipykernel)",
   "language": "python",
   "name": "python3"
  },
  "language_info": {
   "codemirror_mode": {
    "name": "ipython",
    "version": 3
   },
   "file_extension": ".py",
   "mimetype": "text/x-python",
   "name": "python",
   "nbconvert_exporter": "python",
   "pygments_lexer": "ipython3",
   "version": "3.9.13"
  }
 },
 "nbformat": 4,
 "nbformat_minor": 5
}
